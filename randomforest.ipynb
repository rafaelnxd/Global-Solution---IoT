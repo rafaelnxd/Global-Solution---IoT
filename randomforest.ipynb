{
 "cells": [
  {
   "cell_type": "code",
   "execution_count": null,
   "metadata": {},
   "outputs": [],
   "source": [
    "import pandas as pd\n",
    "import numpy as np\n",
    "import matplotlib.pyplot as plt\n",
    "import seaborn as sns\n",
    "from sklearn.model_selection import train_test_split, GridSearchCV, RandomizedSearchCV, TimeSeriesSplit\n",
    "from sklearn.preprocessing import OneHotEncoder, StandardScaler, LabelEncoder\n",
    "from sklearn.metrics import mean_absolute_error, mean_squared_error, r2_score\n",
    "from sklearn.ensemble import RandomForestRegressor\n",
    "from sklearn.linear_model import Ridge, Lasso\n",
    "from xgboost import XGBRegressor\n",
    "from lightgbm import LGBMRegressor\n",
    "import catboost as cb\n",
    "import warnings\n",
    "warnings.filterwarnings('ignore')\n"
   ]
  },
  {
   "cell_type": "markdown",
   "metadata": {},
   "source": [
    "### 1. Carregamento e Exploração Inicial dos Dados"
   ]
  },
  {
   "cell_type": "code",
   "execution_count": 54,
   "metadata": {},
   "outputs": [],
   "source": [
    "df = pd.read_csv('smart_home_energy_usage_dataset.csv', parse_dates=['timestamp'])"
   ]
  },
  {
   "cell_type": "code",
   "execution_count": null,
   "metadata": {},
   "outputs": [
    {
     "name": "stdout",
     "output_type": "stream",
     "text": [
      "            timestamp  home_id  energy_consumption_kWh  temperature_setting_C  \\\n",
      "0 2023-01-01 00:00:00       44                    2.87                   22.1   \n",
      "1 2023-01-01 01:00:00       81                    0.56                   15.4   \n",
      "2 2023-01-01 02:00:00       94                    4.49                   22.4   \n",
      "3 2023-01-01 03:00:00       20                    2.13                   24.6   \n",
      "4 2023-01-01 04:00:00        3                    2.74                   21.4   \n",
      "\n",
      "  occupancy_status     appliance  usage_duration_minutes  season day_of_week  \\\n",
      "0         Occupied  Refrigerator                     111  Spring      Sunday   \n",
      "1         Occupied          HVAC                     103  Summer      Sunday   \n",
      "2         Occupied   Electronics                      12  Autumn      Sunday   \n",
      "3       Unoccupied    Dishwasher                      54  Autumn      Sunday   \n",
      "4       Unoccupied          HVAC                       6  Summer      Sunday   \n",
      "\n",
      "   holiday  \n",
      "0        0  \n",
      "1        0  \n",
      "2        0  \n",
      "3        0  \n",
      "4        0  \n",
      "<class 'pandas.core.frame.DataFrame'>\n",
      "RangeIndex: 1000000 entries, 0 to 999999\n",
      "Data columns (total 10 columns):\n",
      " #   Column                  Non-Null Count    Dtype         \n",
      "---  ------                  --------------    -----         \n",
      " 0   timestamp               1000000 non-null  datetime64[ns]\n",
      " 1   home_id                 1000000 non-null  int64         \n",
      " 2   energy_consumption_kWh  1000000 non-null  float64       \n",
      " 3   temperature_setting_C   1000000 non-null  float64       \n",
      " 4   occupancy_status        1000000 non-null  object        \n",
      " 5   appliance               1000000 non-null  object        \n",
      " 6   usage_duration_minutes  1000000 non-null  int64         \n",
      " 7   season                  1000000 non-null  object        \n",
      " 8   day_of_week             1000000 non-null  object        \n",
      " 9   holiday                 1000000 non-null  int64         \n",
      "dtypes: datetime64[ns](1), float64(2), int64(3), object(4)\n",
      "memory usage: 76.3+ MB\n",
      "None\n",
      "                           timestamp         home_id  energy_consumption_kWh  \\\n",
      "count                        1000000  1000000.000000          1000000.000000   \n",
      "mean   2080-01-15 07:30:00.000002560       50.019812                2.548839   \n",
      "min              2023-01-01 00:00:00        1.000000                0.100000   \n",
      "25%              2051-07-09 15:45:00       25.000000                1.320000   \n",
      "50%              2080-01-15 07:30:00       50.000000                2.550000   \n",
      "75%              2108-07-23 23:15:00       75.000000                3.780000   \n",
      "max              2137-01-29 15:00:00       99.000000                5.000000   \n",
      "std                              NaN       28.605155                1.415527   \n",
      "\n",
      "       temperature_setting_C  usage_duration_minutes         holiday  \n",
      "count         1000000.000000          1000000.000000  1000000.000000  \n",
      "mean               19.999284               59.505089        0.099588  \n",
      "min                15.000000                0.000000        0.000000  \n",
      "25%                17.500000               30.000000        0.000000  \n",
      "50%                20.000000               59.000000        0.000000  \n",
      "75%                22.500000               90.000000        0.000000  \n",
      "max                25.000000              119.000000        1.000000  \n",
      "std                 2.887678               34.651890        0.299450  \n",
      "timestamp                 0\n",
      "home_id                   0\n",
      "energy_consumption_kWh    0\n",
      "temperature_setting_C     0\n",
      "occupancy_status          0\n",
      "appliance                 0\n",
      "usage_duration_minutes    0\n",
      "season                    0\n",
      "day_of_week               0\n",
      "holiday                   0\n",
      "dtype: int64\n"
     ]
    }
   ],
   "source": [
    "\n",
    "print(df.head())\n",
    "print(df.info())\n",
    "print(df.describe())\n",
    "print(df.isnull().sum())\n"
   ]
  },
  {
   "cell_type": "markdown",
   "metadata": {},
   "source": [
    "### 3. Análise das Variáveis Categóricas\n",
    "##### Examinei a distribuição das categorias nas colunas categóricas para entender a composição dos dados."
   ]
  },
  {
   "cell_type": "code",
   "execution_count": null,
   "metadata": {},
   "outputs": [
    {
     "name": "stdout",
     "output_type": "stream",
     "text": [
      "Coluna: season\n",
      "season\n",
      "Autumn    250372\n",
      "Summer    250046\n",
      "Winter    250023\n",
      "Spring    249559\n",
      "Name: count, dtype: int64\n",
      "\n",
      "\n",
      "Coluna: day_of_week\n",
      "day_of_week\n",
      "Sunday       142872\n",
      "Monday       142872\n",
      "Tuesday      142864\n",
      "Wednesday    142848\n",
      "Thursday     142848\n",
      "Friday       142848\n",
      "Saturday     142848\n",
      "Name: count, dtype: int64\n",
      "\n",
      "\n",
      "Coluna: occupancy_status\n",
      "occupancy_status\n",
      "Occupied      500394\n",
      "Unoccupied    499606\n",
      "Name: count, dtype: int64\n",
      "\n",
      "\n",
      "Coluna: appliance\n",
      "appliance\n",
      "Lighting           167310\n",
      "Refrigerator       166804\n",
      "Electronics        166638\n",
      "Dishwasher         166629\n",
      "Washing Machine    166378\n",
      "HVAC               166241\n",
      "Name: count, dtype: int64\n",
      "\n",
      "\n"
     ]
    }
   ],
   "source": [
    "categorical_cols = ['season', 'day_of_week', 'occupancy_status', 'appliance']\n",
    "for col in categorical_cols:\n",
    "    print(f\"Coluna: {col}\")\n",
    "    print(df[col].value_counts())\n",
    "    print(\"\\n\")\n"
   ]
  },
  {
   "cell_type": "markdown",
   "metadata": {},
   "source": [
    "### 4. Visualização dos Dados\n",
    "#### Algumas visualizações para entender a distribuição de kWh.\n"
   ]
  },
  {
   "cell_type": "code",
   "execution_count": null,
   "metadata": {},
   "outputs": [
    {
     "data": {
      "image/png": "[encoded data removed]",
      "text/plain": [
       "<Figure size 640x480 with 1 Axes>"
      ]
     },
     "metadata": {},
     "output_type": "display_data"
    },
    {
     "data": {
      "image/png": "[encoded data removed]",
      "text/plain": [
       "<Figure size 640x480 with 1 Axes>"
      ]
     },
     "metadata": {},
     "output_type": "display_data"
    }
   ],
   "source": [
    "import seaborn as sns\n",
    "import matplotlib.pyplot as plt\n",
    "\n",
    "\n",
    "sns.histplot(df['energy_consumption_kWh'], kde=True)\n",
    "plt.show()\n",
    "sns.countplot(data=df, x='season')\n",
    "plt.show()\n"
   ]
  },
  {
   "cell_type": "markdown",
   "metadata": {},
   "source": [
    "### 5. Engenharia de Features Temporais\n",
    "##### Extraí algumas informações temporais da coluna timestamp para criar novas features que possam influenciar o consumo de energia."
   ]
  },
  {
   "cell_type": "code",
   "execution_count": null,
   "metadata": {},
   "outputs": [],
   "source": [
    "df['timestamp'] = pd.to_datetime(df['timestamp'])\n",
    "df['hour'] = df['timestamp'].dt.hour\n",
    "df['day'] = df['timestamp'].dt.day\n",
    "df['month'] = df['timestamp'].dt.month\n",
    "df['day_of_year'] = df['timestamp'].dt.dayofyear\n",
    "df['week_of_year'] = df['timestamp'].dt.isocalendar().week\n",
    "df['is_weekend'] = df['day_of_week'].isin(['Saturday', 'Sunday']).astype(int)\n",
    "\n"
   ]
  },
  {
   "cell_type": "markdown",
   "metadata": {},
   "source": [
    "### 6. Codificação de Variáveis Categóricas\n",
    "##### Convertendo variáveis categóricas em numéricas utilizando One-Hot Encoding para que possam ser utilizadas pelos modelos Random Forest."
   ]
  },
  {
   "cell_type": "code",
   "execution_count": null,
   "metadata": {},
   "outputs": [
    {
     "name": "stdout",
     "output_type": "stream",
     "text": [
      "            timestamp  home_id  energy_consumption_kWh  temperature_setting_C  \\\n",
      "0 2023-01-01 00:00:00       44                    2.87                   22.1   \n",
      "1 2023-01-01 01:00:00       81                    0.56                   15.4   \n",
      "2 2023-01-01 02:00:00       94                    4.49                   22.4   \n",
      "3 2023-01-01 03:00:00       20                    2.13                   24.6   \n",
      "4 2023-01-01 04:00:00        3                    2.74                   21.4   \n",
      "\n",
      "   usage_duration_minutes  holiday  hour  day  month  day_of_year  ...  \\\n",
      "0                     111        0     0    1      1            1  ...   \n",
      "1                     103        0     1    1      1            1  ...   \n",
      "2                      12        0     2    1      1            1  ...   \n",
      "3                      54        0     3    1      1            1  ...   \n",
      "4                       6        0     4    1      1            1  ...   \n",
      "\n",
      "   day_of_week_Sunday  day_of_week_Thursday  day_of_week_Tuesday  \\\n",
      "0                True                 False                False   \n",
      "1                True                 False                False   \n",
      "2                True                 False                False   \n",
      "3                True                 False                False   \n",
      "4                True                 False                False   \n",
      "\n",
      "   day_of_week_Wednesday  occupancy_status_Unoccupied  appliance_Electronics  \\\n",
      "0                  False                        False                  False   \n",
      "1                  False                        False                  False   \n",
      "2                  False                        False                   True   \n",
      "3                  False                         True                  False   \n",
      "4                  False                         True                  False   \n",
      "\n",
      "   appliance_HVAC  appliance_Lighting  appliance_Refrigerator  \\\n",
      "0           False               False                    True   \n",
      "1            True               False                   False   \n",
      "2           False               False                   False   \n",
      "3           False               False                   False   \n",
      "4            True               False                   False   \n",
      "\n",
      "   appliance_Washing Machine  \n",
      "0                      False  \n",
      "1                      False  \n",
      "2                      False  \n",
      "3                      False  \n",
      "4                      False  \n",
      "\n",
      "[5 rows x 27 columns]\n"
     ]
    }
   ],
   "source": [
    "\n",
    "categorical_cols = ['season', 'day_of_week', 'occupancy_status', 'appliance']\n",
    "df = pd.get_dummies(df, columns=categorical_cols, drop_first=True)\n",
    "print(df.head())\n"
   ]
  },
  {
   "cell_type": "markdown",
   "metadata": {},
   "source": [
    "### 7. Normalização das Features Numéricas\n",
    "##### Apiquei a normalização nas colunas numéricas para garantir que todas as features estejam na mesma escala, o que talvez melhore o desempenho dos modelos."
   ]
  },
  {
   "cell_type": "code",
   "execution_count": null,
   "metadata": {},
   "outputs": [
    {
     "name": "stdout",
     "output_type": "stream",
     "text": [
      "            timestamp   home_id  energy_consumption_kWh  \\\n",
      "0 2023-01-01 00:00:00 -0.210445                    2.87   \n",
      "1 2023-01-01 01:00:00  1.083029                    0.56   \n",
      "2 2023-01-01 02:00:00  1.537492                    4.49   \n",
      "3 2023-01-01 03:00:00 -1.049455                    2.13   \n",
      "4 2023-01-01 04:00:00 -1.643754                    2.74   \n",
      "\n",
      "   temperature_setting_C  usage_duration_minutes  holiday      hour      day  \\\n",
      "0                   22.1                1.486064        0 -1.661318 -1.67379   \n",
      "1                   15.4                1.255197        0 -1.516855 -1.67379   \n",
      "2                   22.4               -1.370924        0 -1.372392 -1.67379   \n",
      "3                   24.6               -0.158868        0 -1.227929 -1.67379   \n",
      "4                   21.4               -1.544075        0 -1.083465 -1.67379   \n",
      "\n",
      "      month  day_of_year  ...  day_of_week_Sunday  day_of_week_Thursday  \\\n",
      "0 -1.599512    -1.725291  ...                True                 False   \n",
      "1 -1.599512    -1.725291  ...                True                 False   \n",
      "2 -1.599512    -1.725291  ...                True                 False   \n",
      "3 -1.599512    -1.725291  ...                True                 False   \n",
      "4 -1.599512    -1.725291  ...                True                 False   \n",
      "\n",
      "   day_of_week_Tuesday  day_of_week_Wednesday  occupancy_status_Unoccupied  \\\n",
      "0                False                  False                        False   \n",
      "1                False                  False                        False   \n",
      "2                False                  False                        False   \n",
      "3                False                  False                         True   \n",
      "4                False                  False                         True   \n",
      "\n",
      "   appliance_Electronics  appliance_HVAC  appliance_Lighting  \\\n",
      "0                  False           False               False   \n",
      "1                  False            True               False   \n",
      "2                   True           False               False   \n",
      "3                  False           False               False   \n",
      "4                  False            True               False   \n",
      "\n",
      "   appliance_Refrigerator  appliance_Washing Machine  \n",
      "0                    True                      False  \n",
      "1                   False                      False  \n",
      "2                   False                      False  \n",
      "3                   False                      False  \n",
      "4                   False                      False  \n",
      "\n",
      "[5 rows x 27 columns]\n"
     ]
    }
   ],
   "source": [
    "\n",
    "numeric_cols = ['home_id', 'usage_duration_minutes',\n",
    "               'hour', 'day', 'month', 'day_of_year', 'week_of_year']\n",
    "\n",
    "scaler = StandardScaler()\n",
    "\n",
    "df[numeric_cols] = scaler.fit_transform(df[numeric_cols])\n",
    "\n",
    "print(df.head())\n"
   ]
  },
  {
   "cell_type": "markdown",
   "metadata": {},
   "source": [
    "### 8. Remoção da Coluna 'timestamp'\n",
    "#### Após a extração das features temporais, removi a coluna timestamp para evitar conflitos durante o treinamento do modelo."
   ]
  },
  {
   "cell_type": "code",
   "execution_count": null,
   "metadata": {},
   "outputs": [
    {
     "name": "stdout",
     "output_type": "stream",
     "text": [
      "False\n"
     ]
    }
   ],
   "source": [
    "df = df.drop('timestamp', axis=1)\n",
    "print('timestamp' in df.columns)  \n"
   ]
  },
  {
   "cell_type": "markdown",
   "metadata": {},
   "source": [
    "### 9. Conversão de Colunas Booleanas para Inteiros\n",
    "##### Converti as colunas booleanas para inteiros pra compatibilidade com o modelo"
   ]
  },
  {
   "cell_type": "code",
   "execution_count": null,
   "metadata": {},
   "outputs": [
    {
     "name": "stdout",
     "output_type": "stream",
     "text": [
      "Colunas booleanas antes da conversão: Index(['season_Spring', 'season_Summer', 'season_Winter', 'day_of_week_Monday',\n",
      "       'day_of_week_Saturday', 'day_of_week_Sunday', 'day_of_week_Thursday',\n",
      "       'day_of_week_Tuesday', 'day_of_week_Wednesday',\n",
      "       'occupancy_status_Unoccupied', 'appliance_Electronics',\n",
      "       'appliance_HVAC', 'appliance_Lighting', 'appliance_Refrigerator',\n",
      "       'appliance_Washing Machine'],\n",
      "      dtype='object')\n",
      "   season_Spring  season_Summer  season_Winter  day_of_week_Monday  \\\n",
      "0              1              0              0                   0   \n",
      "1              0              1              0                   0   \n",
      "2              0              0              0                   0   \n",
      "3              0              0              0                   0   \n",
      "4              0              1              0                   0   \n",
      "\n",
      "   day_of_week_Saturday  day_of_week_Sunday  day_of_week_Thursday  \\\n",
      "0                     0                   1                     0   \n",
      "1                     0                   1                     0   \n",
      "2                     0                   1                     0   \n",
      "3                     0                   1                     0   \n",
      "4                     0                   1                     0   \n",
      "\n",
      "   day_of_week_Tuesday  day_of_week_Wednesday  occupancy_status_Unoccupied  \\\n",
      "0                    0                      0                            0   \n",
      "1                    0                      0                            0   \n",
      "2                    0                      0                            0   \n",
      "3                    0                      0                            1   \n",
      "4                    0                      0                            1   \n",
      "\n",
      "   appliance_Electronics  appliance_HVAC  appliance_Lighting  \\\n",
      "0                      0               0                   0   \n",
      "1                      0               1                   0   \n",
      "2                      1               0                   0   \n",
      "3                      0               0                   0   \n",
      "4                      0               1                   0   \n",
      "\n",
      "   appliance_Refrigerator  appliance_Washing Machine  \n",
      "0                       1                          0  \n",
      "1                       0                          0  \n",
      "2                       0                          0  \n",
      "3                       0                          0  \n",
      "4                       0                          0  \n",
      "home_id                        float64\n",
      "energy_consumption_kWh         float64\n",
      "temperature_setting_C          float64\n",
      "usage_duration_minutes         float64\n",
      "holiday                          int64\n",
      "hour                           float64\n",
      "day                            float64\n",
      "month                          float64\n",
      "day_of_year                    float64\n",
      "week_of_year                   float64\n",
      "is_weekend                       int32\n",
      "season_Spring                    int32\n",
      "season_Summer                    int32\n",
      "season_Winter                    int32\n",
      "day_of_week_Monday               int32\n",
      "day_of_week_Saturday             int32\n",
      "day_of_week_Sunday               int32\n",
      "day_of_week_Thursday             int32\n",
      "day_of_week_Tuesday              int32\n",
      "day_of_week_Wednesday            int32\n",
      "occupancy_status_Unoccupied      int32\n",
      "appliance_Electronics            int32\n",
      "appliance_HVAC                   int32\n",
      "appliance_Lighting               int32\n",
      "appliance_Refrigerator           int32\n",
      "appliance_Washing Machine        int32\n",
      "dtype: object\n"
     ]
    }
   ],
   "source": [
    "bool_cols = df.select_dtypes(include=['bool']).columns\n",
    "print(\"Colunas booleanas antes da conversão:\", bool_cols)\n",
    "\n",
    "\n",
    "df[bool_cols] = df[bool_cols].astype(int)\n",
    "\n",
    "\n",
    "print(df[bool_cols].head())\n",
    "print(df.dtypes)\n"
   ]
  },
  {
   "cell_type": "markdown",
   "metadata": {},
   "source": [
    "### 10. Preparação dos Dados para o Treinamento\n",
    "##### Defini as variáveis de entrada e a variável alvo, e dividi os dados em conjuntos de treinamento e teste mantendo a ordem temporal."
   ]
  },
  {
   "cell_type": "code",
   "execution_count": null,
   "metadata": {},
   "outputs": [
    {
     "name": "stdout",
     "output_type": "stream",
     "text": [
      "Treino: (800000, 25), Teste: (200000, 25)\n"
     ]
    }
   ],
   "source": [
    "df = df.sort_values(by=['month', 'day', 'hour'])\n",
    "X = df.drop(['energy_consumption_kWh'], axis=1)\n",
    "y = df['energy_consumption_kWh']\n",
    "X_train, X_test, y_train, y_test = train_test_split(\n",
    "    X, y, test_size=0.2, shuffle=False\n",
    ")\n",
    "print(f\"Treino: {X_train.shape}, Teste: {X_test.shape}\")\n"
   ]
  },
  {
   "cell_type": "markdown",
   "metadata": {},
   "source": [
    "### 11. Verificação Final das Features\n",
    "#### Apenas garantindo que está tudo certo!"
   ]
  },
  {
   "cell_type": "code",
   "execution_count": null,
   "metadata": {},
   "outputs": [
    {
     "name": "stdout",
     "output_type": "stream",
     "text": [
      "home_id                        float64\n",
      "energy_consumption_kWh         float64\n",
      "temperature_setting_C          float64\n",
      "usage_duration_minutes         float64\n",
      "holiday                          int64\n",
      "hour                           float64\n",
      "day                            float64\n",
      "month                          float64\n",
      "day_of_year                    float64\n",
      "week_of_year                   float64\n",
      "is_weekend                       int32\n",
      "season_Spring                    int32\n",
      "season_Summer                    int32\n",
      "season_Winter                    int32\n",
      "day_of_week_Monday               int32\n",
      "day_of_week_Saturday             int32\n",
      "day_of_week_Sunday               int32\n",
      "day_of_week_Thursday             int32\n",
      "day_of_week_Tuesday              int32\n",
      "day_of_week_Wednesday            int32\n",
      "occupancy_status_Unoccupied      int32\n",
      "appliance_Electronics            int32\n",
      "appliance_HVAC                   int32\n",
      "appliance_Lighting               int32\n",
      "appliance_Refrigerator           int32\n",
      "appliance_Washing Machine        int32\n",
      "dtype: object\n",
      "Colunas não numéricas: Index([], dtype='object')\n",
      "Todas as colunas são numéricas.\n"
     ]
    }
   ],
   "source": [
    "\n",
    "print(df.dtypes)\n",
    "\n",
    "\n",
    "non_numeric_cols = df.select_dtypes(include=['object', 'datetime']).columns\n",
    "print(\"Colunas não numéricas:\", non_numeric_cols)\n",
    "\n",
    "\n",
    "if len(non_numeric_cols) > 0:\n",
    "    print(\"Trate as colunas não numéricas antes de treinar o modelo.\")\n",
    "else:\n",
    "    print(\"Todas as colunas são numéricas.\")\n"
   ]
  },
  {
   "cell_type": "markdown",
   "metadata": {},
   "source": [
    "### 12. Definição da Função de Avaliação do Modelo\n",
    "##### Criamos uma função para avaliar o desempenho dos modelos utilizando métricas como MAE, RMSE e R²."
   ]
  },
  {
   "cell_type": "code",
   "execution_count": 65,
   "metadata": {},
   "outputs": [],
   "source": [
    "def evaluate_model(model, X_train, y_train, X_test, y_test):\n",
    "    model.fit(X_train, y_train)\n",
    "    preds = model.predict(X_test)\n",
    "    mae = mean_absolute_error(y_test, preds)\n",
    "    rmse = np.sqrt(mean_squared_error(y_test, preds))\n",
    "    r2 = r2_score(y_test, preds)\n",
    "    return mae, rmse, r2\n"
   ]
  },
  {
   "cell_type": "markdown",
   "metadata": {},
   "source": [
    "### 13. Treinamento e Avaliação do Modelo Random Forest Regressor\n",
    "#### Treinamos o modelo Random Forest e avaliamos seu desempenho."
   ]
  },
  {
   "cell_type": "code",
   "execution_count": 66,
   "metadata": {},
   "outputs": [
    {
     "name": "stdout",
     "output_type": "stream",
     "text": [
      "Random Forest - MAE: 1.229448274, RMSE: 1.4247304906518636, R2: -0.018589069632203303\n"
     ]
    }
   ],
   "source": [
    "rf = RandomForestRegressor(n_estimators=100, random_state=42, n_jobs=-1)\n",
    "rf_mae, rf_rmse, rf_r2 = evaluate_model(rf, X_train, y_train, X_test, y_test)\n",
    "print(f\"Random Forest - MAE: {rf_mae}, RMSE: {rf_rmse}, R2: {rf_r2}\")"
   ]
  },
  {
   "cell_type": "markdown",
   "metadata": {},
   "source": [
    "O modelo Random Forest Regressor foi utilizado para prever o consumo de energia em residências inteligentes. As métricas obtidas foram:\n",
    "\n",
    "MAE (Mean Absolute Error): 1.23 kWh, indicando que, em média, o erro absoluto das previsões é de aproximadamente 1.23 kWh em relação ao consumo real.  \n",
    "RMSE (Root Mean Squared Error): 1.42 kWh, revelando que o modelo comete erros ligeiramente maiores em alguns casos, já que o RMSE penaliza mais erros altos.  \n",
    "R² (Coeficiente de Determinação): -0.0186, mostrando que o modelo tem performance inferior a uma previsão baseada na média dos valores reais.  \n",
    "Esses resultados indicam que o modelo ainda não conseguiu capturar bem os padrões do consumo de energia. Para melhorar, é necessário ajustar os hiperparâmetros, criar novas variáveis explicativas (como agregações temporais e dados climáticos) ou experimentar outros modelos."
   ]
  }
 ],
 "metadata": {
  "kernelspec": {
   "display_name": "Python 3",
   "language": "python",
   "name": "python3"
  },
  "language_info": {
   "codemirror_mode": {
    "name": "ipython",
    "version": 3
   },
   "file_extension": ".py",
   "mimetype": "text/x-python",
   "name": "python",
   "nbconvert_exporter": "python",
   "pygments_lexer": "ipython3",
   "version": "3.12.4"
  }
 },
 "nbformat": 4,
 "nbformat_minor": 2
}
